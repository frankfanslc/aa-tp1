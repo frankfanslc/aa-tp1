{
 "metadata": {
  "name": "",
  "signature": "sha256:f0e929e589e4418839dee9458f6c364ae179788d9c0b3f4a0952a03fc368578b"
 },
 "nbformat": 3,
 "nbformat_minor": 0,
 "worksheets": [
  {
   "cells": [
    {
     "cell_type": "code",
     "collapsed": false,
     "input": [
      "import json\n",
      "import pandas as pd\n",
      "import numpy as np\n",
      "import email as em\n",
      "\n",
      "# Leo los mails (poner los paths correctos).\n",
      "ham_txt = json.load(open('./data/ham_dev.json'))\n",
      "spam_txt = json.load(open('./data/spam_dev.json'))\n",
      "\n",
      "txt = ham_txt + spam_txt\n",
      "output = []\n",
      "\n",
      "# Headers to include in attributes\n",
      "whitelist = ['from', 'date', 'content-type', 'subject', 'mime-version', 'to', 'content-transfer-encoding', 'message-id', 'x-from', 'x-filename', 'x-origin', 'x-to', 'x-cc', 'x-bcc', 'x-priority', 'x-msmail-priority', 'x-mimeole', 'cc', 'bcc', 'received', 'x-mailer', 'reply-to', 'user-agent']\n",
      "\n",
      "for (nro, text) in enumerate(txt):\n",
      "    current = {}\n",
      "\n",
      "    if nro <= len(ham_txt):\n",
      "        current['class'] = 'ham'\n",
      "    else:\n",
      "        current['class'] = 'spam'\n",
      "\n",
      "    email = em.message_from_string(text)\n",
      "\n",
      "    # Include headers\n",
      "    for (key, data) in email.items():\n",
      "        if key in whitelist:\n",
      "            current[key] = data\n",
      "    \n",
      "    current['email'] = email\n",
      "    output.append(current)\n",
      "\n",
      "# This is the merged, created dataset\n",
      "df = pd.DataFrame(output)\n",
      "\n",
      "# Split and save holdout and training data\n",
      "# We hold out about 10% of the data\n",
      "mask = np.random.rand(len(df)) < 0.9\n",
      "\n",
      "development = df[mask]\n",
      "development.to_csv('./data/development.csv')\n",
      "\n",
      "holdout = df[~mask]\n",
      "holdout.to_csv('./data/holdout.csv')"
     ],
     "language": "python",
     "metadata": {},
     "outputs": [],
     "prompt_number": 99
    },
    {
     "cell_type": "code",
     "collapsed": false,
     "input": [],
     "language": "python",
     "metadata": {},
     "outputs": [],
     "prompt_number": 94
    },
    {
     "cell_type": "code",
     "collapsed": false,
     "input": [
      "import pandas as pd\n",
      "import email as em\n",
      "import re\n",
      "\n",
      "def generate_content_types(row):\n",
      "    email = row['email']\n",
      "    output = {}\n",
      "    check = ['text/plain', 'text/html']\n",
      "    \n",
      "    for part in email.walk():\n",
      "        ct = part.get_content_type()\n",
      "        \n",
      "        if ct in check:\n",
      "            output['is_' + ct] = True\n",
      "    \n",
      "    for ct in check:\n",
      "        if 'is_' + ct not in output:\n",
      "            output['is_' + ct] = False\n",
      "    \n",
      "    return output\n",
      "\n",
      "def generate_multipart_number(row):\n",
      "    email = row['email']\n",
      "    output = { 'multipart_number': 0 }\n",
      "    \n",
      "    for part in email.walk():\n",
      "        output['multipart_number'] += 1\n",
      "    \n",
      "    return output\n",
      "\n",
      "def generate_number_of_spaces(row):\n",
      "    email = str(row['email'])\n",
      "    output = { 'spaces': email.count(' '), 'newlines': email.count('\\n') }\n",
      "    return output\n",
      "\n",
      "def number_of_images(row):\n",
      "    email = row['email']\n",
      "    output = { 'number_of_images': 0 }\n",
      "    rgx = re.compile('(.*).(jpeg|jpg|png|gif|bmp)')\n",
      "    \n",
      "    for part in email.walk():\n",
      "        if part.get_content_type().startswith('image/'):\n",
      "            output['number_of_images'] += 1\n",
      "        elif part.get_content_type() == 'text/html' or part.get_content_type() == 'text/plain':\n",
      "            output['number_of_images'] += len(re.findall(rgx, part.get_payload()))\n",
      "    \n",
      "    return output\n",
      "\n",
      "transformed = []\n",
      "\n",
      "transforms = [\n",
      "    lambda row: {'class': row['class']},\n",
      "    lambda row: {'length': len(row['email'])},\n",
      "    generate_multipart_number,\n",
      "    generate_content_types,\n",
      "    generate_number_of_spaces,\n",
      "    number_of_images]\n",
      "\n",
      "# Load up development dataset\n",
      "df = pd.read_csv('./data/development.csv')\n",
      "df['email'] = df['email'].apply(lambda x: em.message_from_string(x))\n",
      "\n",
      "for index, row in df.iterrows():\n",
      "    # Define features for row\n",
      "    current = {}\n",
      "    \n",
      "    for function in transforms:\n",
      "        current.update(function(row))\n",
      "    \n",
      "    transformed.append(current)\n",
      "\n",
      "del ds\n",
      "ds = pd.DataFrame(transformed)"
     ],
     "language": "python",
     "metadata": {},
     "outputs": [],
     "prompt_number": 97
    },
    {
     "cell_type": "code",
     "collapsed": false,
     "input": [
      "from sklearn.tree import DecisionTreeClassifier\n",
      "from sklearn.cross_validation import cross_val_score\n",
      "from sklearn.metrics import confusion_matrix\n",
      "\n",
      "dataset = ds[[x for x in ds.columns if x != 'class']].values\n",
      "labels = ds['class'].apply(lambda x: x == 'spam')\n",
      "\n",
      "model = DecisionTreeClassifier()\n",
      "res = cross_val_score(model, dataset, labels, cv=10, scoring='roc_auc')\n",
      "print(np.mean(res), np.std(res))"
     ],
     "language": "python",
     "metadata": {},
     "outputs": [
      {
       "output_type": "stream",
       "stream": "stdout",
       "text": [
        "0.993366645949 0.00117162213983\n"
       ]
      }
     ],
     "prompt_number": 86
    },
    {
     "cell_type": "code",
     "collapsed": false,
     "input": [
      "res"
     ],
     "language": "python",
     "metadata": {},
     "outputs": [
      {
       "metadata": {},
       "output_type": "pyout",
       "prompt_number": 87,
       "text": [
        "array([ 0.99439161,  0.99306592,  0.99336846,  0.99339592,  0.99178441,\n",
        "        0.99411772,  0.99308452,  0.99407843,  0.99108395,  0.99529553])"
       ]
      }
     ],
     "prompt_number": 87
    },
    {
     "cell_type": "code",
     "collapsed": false,
     "input": [
      "res"
     ],
     "language": "python",
     "metadata": {},
     "outputs": [
      {
       "metadata": {},
       "output_type": "pyout",
       "prompt_number": 81,
       "text": [
        "array([ 0.99316149,  0.99367422,  0.99262381,  0.99577167,  0.99417681,\n",
        "        0.99367756,  0.99419219,  0.99264319,  0.9910432 ,  0.99472852])"
       ]
      }
     ],
     "prompt_number": 81
    },
    {
     "cell_type": "code",
     "collapsed": false,
     "input": [
      "ds['number_of_images'].describe(percentiles=[0.25, 0.5, 0.75, 0.9])"
     ],
     "language": "python",
     "metadata": {},
     "outputs": [
      {
       "metadata": {},
       "output_type": "pyout",
       "prompt_number": 79,
       "text": [
        "count    36145.000000\n",
        "mean         0.774713\n",
        "std          3.589233\n",
        "min          0.000000\n",
        "25%          0.000000\n",
        "50%          0.000000\n",
        "75%          0.000000\n",
        "90%          1.000000\n",
        "max        105.000000\n",
        "Name: number_of_images, dtype: float64"
       ]
      }
     ],
     "prompt_number": 79
    },
    {
     "cell_type": "code",
     "collapsed": false,
     "input": [
      "len(train)"
     ],
     "language": "python",
     "metadata": {},
     "outputs": [
      {
       "metadata": {},
       "output_type": "pyout",
       "prompt_number": 89,
       "text": [
        "32507"
       ]
      }
     ],
     "prompt_number": 89
    },
    {
     "cell_type": "code",
     "collapsed": false,
     "input": [
      "len(test)"
     ],
     "language": "python",
     "metadata": {},
     "outputs": [
      {
       "metadata": {},
       "output_type": "pyout",
       "prompt_number": 90,
       "text": [
        "3638"
       ]
      }
     ],
     "prompt_number": 90
    },
    {
     "cell_type": "code",
     "collapsed": false,
     "input": [
      "len(df)"
     ],
     "language": "python",
     "metadata": {},
     "outputs": [
      {
       "metadata": {},
       "output_type": "pyout",
       "prompt_number": 92,
       "text": [
        "36145"
       ]
      }
     ],
     "prompt_number": 92
    },
    {
     "cell_type": "code",
     "collapsed": false,
     "input": [],
     "language": "python",
     "metadata": {},
     "outputs": [
      {
       "metadata": {},
       "output_type": "pyout",
       "prompt_number": 93,
       "text": [
        "36145"
       ]
      }
     ],
     "prompt_number": 93
    },
    {
     "cell_type": "code",
     "collapsed": false,
     "input": [],
     "language": "python",
     "metadata": {},
     "outputs": []
    }
   ],
   "metadata": {}
  }
 ]
}