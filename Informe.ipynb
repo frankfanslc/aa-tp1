{
 "cells": [
  {
   "cell_type": "code",
   "execution_count": null,
   "metadata": {
    "collapsed": true
   },
   "outputs": [],
   "source": [
    "import email\n",
    "import sklearn\n",
    "import sklearn.decomposition\n",
    "import features\n",
    "import numpy as np\n",
    "\n",
    "pipeline = sklearn.pipeline.Pipeline([\n",
    "    ('transform_email', sklearn.preprocessing.FunctionTransformer(email.message_from_string)),\n",
    "    ('generate_features', sklearn.pipeline.FeatureUnion([\n",
    "        ('content_type_features', sklearn.preprocessing.FunctionTransformer(features.generate_content_type)),\n",
    "        ('email_counts_features', sklearn.preprocessing.FunctionTransformer(features.generate_email_counts)),\n",
    "        ('case_ratio_features', sklearn.preprocessing.FunctionTransformer(features.generate_upper_to_lower_case_ratios)),\n",
    "        ('email_chain_features', sklearn.preprocessing.FunctionTransformer(features.generate_subject_is_chain)),\n",
    "        ('link_features', sklearn.preprocessing.FunctionTransformer(features.generate_number_of_links)),\n",
    "        ('mailing_list_features', sklearn.preprocessing.FunctionTransformer(features.generate_is_mailing_list)),\n",
    "        ('bag_of_words_features', sklearn.pipeline.Pipeline([\n",
    "            ('generate_bow', sklearn.feature_extraction.text.TfidfVectorizer()),\n",
    "            ('pca', sklearn.decomposition.TruncatedSVD(n_components=200))\n",
    "        ]))\n",
    "    ])),\n",
    "    ('train_tree', sklearn.tree.DecisionTreeClassifier())\n",
    "])\n",
    "\n",
    "# Load processed data\n",
    "dataset = pandas.read_msgpack('./data/processed.msg', encoding='latin-1')\n",
    "\n",
    "# Separate features and labels\n",
    "features = dataset[[x for x in dataset.columns if x != 'class']].values\n",
    "labels = dataset['class'].apply(lambda x: x == 1)\n",
    "res = sklearn.cross_validation.cross_val_score(pipeline, features, labels, cv=10, scoring='roc_auc')\n",
    "print(np.mean(res), np.std(res))"
   ]
  },
  {
   "cell_type": "code",
   "execution_count": null,
   "outputs": [],
   "source": [
    ""
   ]
  }
 ],
 "metadata": {
  "kernelspec": {
   "display_name": "Python 2",
   "language": "python",
   "name": "python2"
  },
  "language_info": {
   "codemirror_mode": {
    "name": "ipython",
    "version": 2.0
   },
   "file_extension": ".py",
   "mimetype": "text/x-python",
   "name": "python",
   "nbconvert_exporter": "python",
   "pygments_lexer": "ipython2",
   "version": "2.7.6"
  }
 },
 "nbformat": 4,
 "nbformat_minor": 0
}